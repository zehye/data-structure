{
 "cells": [
  {
   "cell_type": "code",
   "execution_count": 2,
   "metadata": {},
   "outputs": [],
   "source": [
    "def test(number):\n",
    "    num_list = []\n",
    "    for i in number:\n",
    "        num = ord(i)\n",
    "        if num == 123 or num == 40:\n",
    "            num_list.append(num)\n",
    "        else:\n",
    "            chnum = num_list.pop()\n",
    "            k = chnum - num\n",
    "            if k != -2 or k != -1:\n",
    "                return 'false list'\n",
    "            if len(num_list) != 0:\n",
    "                return 'no list'\n",
    "            return 'ok list'"
   ]
  },
  {
   "cell_type": "code",
   "execution_count": null,
   "metadata": {},
   "outputs": [],
   "source": []
  }
 ],
 "metadata": {
  "kernelspec": {
   "display_name": "Python 3",
   "language": "python",
   "name": "python3"
  },
  "language_info": {
   "codemirror_mode": {
    "name": "ipython",
    "version": 3
   },
   "file_extension": ".py",
   "mimetype": "text/x-python",
   "name": "python",
   "nbconvert_exporter": "python",
   "pygments_lexer": "ipython3",
   "version": "3.6.5"
  }
 },
 "nbformat": 4,
 "nbformat_minor": 2
}
