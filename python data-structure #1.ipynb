{
 "cells": [
  {
   "cell_type": "code",
   "execution_count": 7,
   "metadata": {},
   "outputs": [
    {
     "name": "stdout",
     "output_type": "stream",
     "text": [
      "---3.1948089599609375e-05 second ---\n"
     ]
    }
   ],
   "source": [
    "import random\n",
    "import time\n",
    "\n",
    "random.seed(time.time())\n",
    "\n",
    "a = []\n",
    "\n",
    "for i in range(1,100):\n",
    "    a.append(random.randint(1,1000))\n",
    "\n",
    "start_time = time.time()\n",
    "print(\"---%s second ---\" % (time.time() - start_time))"
   ]
  },
  {
   "cell_type": "code",
   "execution_count": 17,
   "metadata": {},
   "outputs": [
    {
     "name": "stdout",
     "output_type": "stream",
     "text": [
      "[4, 6, 8, 12]\n",
      "[10, 50, 40, 60, 80, 110, 30, 120]\n",
      "[[0, 1, 2], [1, 4, 5], [5, 3, 10], [7, 2, 2]]\n"
     ]
    }
   ],
   "source": [
    "a = [1,5,4,6,8,11,3,12]\n",
    "\n",
    "even = list(filter(lambda x : (x %2 ==0), a))\n",
    "print(even)\n",
    "\n",
    "ten_times = list(map(lambda x: (x*10), a))\n",
    "print(ten_times)\n",
    "\n",
    "b = [[0,1,2],[7,2,2],[5,3,10],[1,4,5]]\n",
    "b.sort(key = lambda x: x[0])\n",
    "print(b)"
   ]
  },
  {
   "cell_type": "code",
   "execution_count": 28,
   "metadata": {},
   "outputs": [
    {
     "name": "stdout",
     "output_type": "stream",
     "text": [
      "10 loading\n",
      "9 loading\n",
      "8 loading\n",
      "7 loading\n",
      "6 loading\n",
      "5 loading\n",
      "4 loading\n",
      "3 loading\n",
      "2 loading\n",
      "1 loading\n",
      "finish\n"
     ]
    }
   ],
   "source": [
    "def recurse(count):\n",
    "    if count <= 0:\n",
    "        print('finish')\n",
    "    else:  \n",
    "        print(count, 'loading')\n",
    "        recurse(count-1)\n",
    "\n",
    "recurse(10)"
   ]
  },
  {
   "cell_type": "code",
   "execution_count": 35,
   "metadata": {},
   "outputs": [
    {
     "name": "stdout",
     "output_type": "stream",
     "text": [
      "24\n",
      "3628800\n",
      "1\n"
     ]
    }
   ],
   "source": [
    "def factorial(n):\n",
    "    if n <= 1:\n",
    "        return 1\n",
    "    else:\n",
    "        return n*factorial(n-1)\n",
    "    \n",
    "print(factorial(4))\n",
    "print(factorial(10))\n",
    "print(factorial(1))"
   ]
  },
  {
   "cell_type": "code",
   "execution_count": 37,
   "metadata": {},
   "outputs": [
    {
     "name": "stdout",
     "output_type": "stream",
     "text": [
      "3628800\n"
     ]
    }
   ],
   "source": [
    "factorial = 1\n",
    "for i in range(1,11):\n",
    "    factorial *= i\n",
    "    \n",
    "print(factorial)"
   ]
  },
  {
   "cell_type": "code",
   "execution_count": 38,
   "metadata": {},
   "outputs": [
    {
     "name": "stdout",
     "output_type": "stream",
     "text": [
      "43210"
     ]
    }
   ],
   "source": [
    "def f(N):\n",
    "    print(N, end='')\n",
    "    if N > 0:\n",
    "        f(N-1)\n",
    "        \n",
    "f(4)"
   ]
  },
  {
   "cell_type": "code",
   "execution_count": null,
   "metadata": {},
   "outputs": [],
   "source": []
  }
 ],
 "metadata": {
  "kernelspec": {
   "display_name": "Python 3",
   "language": "python",
   "name": "python3"
  },
  "language_info": {
   "codemirror_mode": {
    "name": "ipython",
    "version": 3
   },
   "file_extension": ".py",
   "mimetype": "text/x-python",
   "name": "python",
   "nbconvert_exporter": "python",
   "pygments_lexer": "ipython3",
   "version": "3.6.5"
  }
 },
 "nbformat": 4,
 "nbformat_minor": 2
}
