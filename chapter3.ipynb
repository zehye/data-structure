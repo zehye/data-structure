{
 "cells": [
  {
   "cell_type": "markdown",
   "metadata": {},
   "source": [
    "# 3.17\n",
    "### 괄화 짝 맞추기를 위한 파이썬 프로그램을 작성하시오. 단, 입력은 중괄호화 소괄호만 입력 스트링으로 주어진다고 가정하시오. 그리고 입력은 리스트에 주어진다."
   ]
  },
  {
   "cell_type": "code",
   "execution_count": 94,
   "metadata": {},
   "outputs": [],
   "source": [
    "def is_pair(s):\n",
    "    stack = []\n",
    "    for i in s:\n",
    "        if i == \"(\" or i == \"{\":\n",
    "            stack.append(i)\n",
    "        elif i == \")\" or i == \"}\":\n",
    "            try:\n",
    "                stack.pop()\n",
    "            except IndexError:\n",
    "                return False\n",
    "    return len(stack) == 0"
   ]
  },
  {
   "cell_type": "code",
   "execution_count": 95,
   "metadata": {},
   "outputs": [],
   "source": [
    "i1 = '}{}'\n",
    "i2 = '()'"
   ]
  },
  {
   "cell_type": "code",
   "execution_count": 96,
   "metadata": {},
   "outputs": [
    {
     "data": {
      "text/plain": [
       "False"
      ]
     },
     "execution_count": 96,
     "metadata": {},
     "output_type": "execute_result"
    }
   ],
   "source": [
    "is_pair(i1)"
   ]
  },
  {
   "cell_type": "code",
   "execution_count": 97,
   "metadata": {
    "scrolled": true
   },
   "outputs": [
    {
     "data": {
      "text/plain": [
       "True"
      ]
     },
     "execution_count": 97,
     "metadata": {},
     "output_type": "execute_result"
    }
   ],
   "source": [
    "is_pair(i2)"
   ]
  },
  {
   "cell_type": "markdown",
   "metadata": {},
   "source": [
    "# 3.18\n",
    "### 입력 스트링이 회문(Palindrome)인지를 검사하는 파이썬 프로그램을 작성하시오. 단, 입력은 리스트에 추가된다. "
   ]
  },
  {
   "cell_type": "code",
   "execution_count": 70,
   "metadata": {},
   "outputs": [],
   "source": [
    "def is_palindrome1(s):\n",
    "    return s == s[::-1]"
   ]
  },
  {
   "cell_type": "code",
   "execution_count": 71,
   "metadata": {},
   "outputs": [],
   "source": [
    "s1 = 'abcde1edcba'"
   ]
  },
  {
   "cell_type": "code",
   "execution_count": 72,
   "metadata": {},
   "outputs": [
    {
     "data": {
      "text/plain": [
       "True"
      ]
     },
     "execution_count": 72,
     "metadata": {},
     "output_type": "execute_result"
    }
   ],
   "source": [
    "is_palindrome1(s1)"
   ]
  },
  {
   "cell_type": "code",
   "execution_count": 76,
   "metadata": {},
   "outputs": [],
   "source": [
    "def is_palinedrome(s):\n",
    "    stack = []\n",
    "    if s == s[::-1]:\n",
    "        stack.append(s)\n",
    "    else:\n",
    "        stack.pop()\n",
    "        return False"
   ]
  },
  {
   "cell_type": "code",
   "execution_count": 77,
   "metadata": {},
   "outputs": [],
   "source": [
    "s1 = 'abcde1edcbaa'"
   ]
  },
  {
   "cell_type": "code",
   "execution_count": 79,
   "metadata": {
    "scrolled": true
   },
   "outputs": [
    {
     "data": {
      "text/plain": [
       "False"
      ]
     },
     "execution_count": 79,
     "metadata": {},
     "output_type": "execute_result"
    }
   ],
   "source": [
    "is_palindrome(s1)"
   ]
  },
  {
   "cell_type": "markdown",
   "metadata": {},
   "source": [
    "# 3.23\n",
    "### 중위 표기법으로 된 식을 후위표기법으로 변환하는 파이썬 함수를 작성하시오. 단, 수식에는 소괄호만 사용된다고 가정하시오. 그리고 입력은 리스트에 주어진다."
   ]
  },
  {
   "cell_type": "code",
   "execution_count": 115,
   "metadata": {},
   "outputs": [],
   "source": [
    "infix = [ '2', '+', '3', '*', '4', '13', '-', '(', ')']\n",
    "postfix = []\n",
    "stack = []\n",
    "operator = ['*', '/', '+', '-']\n",
    "bracket = ['(', ')']\n",
    "\n",
    "def is_number(x):\n",
    "    if x not in operator and x not in bracket:\n",
    "        return True\n",
    "    else:\n",
    "        return False\n",
    "    \n",
    "def pref(x):\n",
    "    if x is '*' or x is '/':\n",
    "        return 1\n",
    "    elif x is '+' or x is '-':\n",
    "        return 0\n",
    "\n",
    "for c in infix:\n",
    "    if is_number(c):\n",
    "        postfix.append(c)\n",
    "    elif c in operator:\n",
    "        p = pref(c)\n",
    "        while len(stack) > 0:\n",
    "            top = stack[-1]\n",
    "            if pref(top) <= p:\n",
    "                break\n",
    "            postfix.append(stack.pop())            \n",
    "        stack.append(c)\n",
    "        \n",
    "    elif c == '(':\n",
    "        stack.append(c)\n",
    "    elif c == ')':\n",
    "        while True:\n",
    "            x = stack.pop()\n",
    "            if x == '(':\n",
    "                break\n",
    "            postfix.append(x)\n",
    "            \n",
    "while len(stack) > 0:\n",
    "    postfix.append(stack.pop())"
   ]
  },
  {
   "cell_type": "code",
   "execution_count": 116,
   "metadata": {},
   "outputs": [
    {
     "name": "stdout",
     "output_type": "stream",
     "text": [
      "['2', '3', '4', '13', '*', '-', '+']\n"
     ]
    }
   ],
   "source": [
    "print(postfix)"
   ]
  },
  {
   "cell_type": "code",
   "execution_count": 117,
   "metadata": {},
   "outputs": [
    {
     "name": "stdout",
     "output_type": "stream",
     "text": [
      "['2', '+', '3', '*', '4', '13', '-', '(', ')']\n"
     ]
    }
   ],
   "source": [
    "print(infix)"
   ]
  },
  {
   "cell_type": "code",
   "execution_count": null,
   "metadata": {},
   "outputs": [],
   "source": []
  }
 ],
 "metadata": {
  "kernelspec": {
   "display_name": "Python 3",
   "language": "python",
   "name": "python3"
  },
  "language_info": {
   "codemirror_mode": {
    "name": "ipython",
    "version": 3
   },
   "file_extension": ".py",
   "mimetype": "text/x-python",
   "name": "python",
   "nbconvert_exporter": "python",
   "pygments_lexer": "ipython3",
   "version": "3.6.5"
  }
 },
 "nbformat": 4,
 "nbformat_minor": 2
}
